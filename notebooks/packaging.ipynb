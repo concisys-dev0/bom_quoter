{
 "cells": [
  {
   "cell_type": "code",
   "execution_count": 1,
   "id": "29b154f9-2da9-4a52-ac5f-1f221abc6c0c",
   "metadata": {
    "tags": []
   },
   "outputs": [],
   "source": [
    "import setuptools"
   ]
  },
  {
   "cell_type": "code",
   "execution_count": 3,
   "id": "af87376c-892f-471a-98e8-6aa94f6f7401",
   "metadata": {
    "tags": []
   },
   "outputs": [],
   "source": []
  },
  {
   "cell_type": "code",
   "execution_count": 4,
   "id": "8b7e3d2f-44dc-449e-8dcf-45138bceb404",
   "metadata": {},
   "outputs": [
    {
     "name": "stdout",
     "output_type": "stream",
     "text": [
      "[]\n"
     ]
    }
   ],
   "source": []
  },
  {
   "cell_type": "code",
   "execution_count": null,
   "id": "e72f26ad-aa88-421d-b96e-87db380bbcff",
   "metadata": {},
   "outputs": [],
   "source": []
  }
 ],
 "metadata": {
  "kernelspec": {
   "display_name": "Python 3 (ipykernel)",
   "language": "python",
   "name": "python3"
  },
  "language_info": {
   "codemirror_mode": {
    "name": "ipython",
    "version": 3
   },
   "file_extension": ".py",
   "mimetype": "text/x-python",
   "name": "python",
   "nbconvert_exporter": "python",
   "pygments_lexer": "ipython3",
   "version": "3.11.4"
  }
 },
 "nbformat": 4,
 "nbformat_minor": 5
}
